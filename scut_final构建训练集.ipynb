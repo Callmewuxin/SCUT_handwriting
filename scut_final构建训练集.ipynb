{
 "cells": [
  {
   "cell_type": "markdown",
   "metadata": {},
   "source": [
    "# 加载字母数字数据集"
   ]
  },
  {
   "cell_type": "code",
   "execution_count": 2,
   "metadata": {},
   "outputs": [],
   "source": [
    "path='F:\\SCUT\\output2\\digit_letter_48_48_center_in\\\\'\n",
    "namepath=\"F:\\SCUT\\output2\\\\aname_digit_letter.txt\" \n",
    "\n",
    "\n",
    "import matplotlib.pyplot as plt\n",
    "import numpy as np\n",
    "\n",
    "def load_digit_data(digit):\n",
    "    data = np.load('{}{}.npz'.format(path,digit))\n",
    "    x_train = data['x_train']\n",
    "    y_train = data['y_train']\n",
    "    x_test = data['x_test']\n",
    "    y_test = data['y_test']\n",
    "    return (x_train, y_train), (x_test, y_test)\n",
    "\n",
    "def load_data():\n",
    "    (x_train_0, y_train_0), (x_test_0, y_test_0) = load_digit_data(\"０\")\n",
    "    (x_train_1, y_train_1), (x_test_1, y_test_1) = load_digit_data(\"１\")\n",
    "    x_train = np.append(x_train_0, x_train_1, axis=0)\n",
    "    y_train = np.append(y_train_0, y_train_1, axis=0)\n",
    "    x_test = np.append(x_test_0, x_test_1,axis=0)\n",
    "    y_test = np.append(y_test_0, y_test_1, axis=0)   \n",
    "    lines=open(namepath).readlines()\n",
    "    i=0\n",
    "    for data in lines: \n",
    "        listname = data.strip('\\n')\n",
    "        data=listname.split('.')\n",
    "        listname=data[0]            \n",
    "        if(i>=2):\n",
    "            (x_train_11, y_train_11), (x_test_11, y_test_11) = load_digit_data(listname)\n",
    "            x_train = np.append(x_train, x_train_11, axis=0)\n",
    "            y_train = np.append(y_train, y_train_11, axis=0)\n",
    "            x_test = np.append(x_test, x_test_11,axis=0)\n",
    "            y_test = np.append(y_test, y_test_11, axis=0)\n",
    "        i=i+1\n",
    "    return (x_train, y_train), (x_test, y_test)"
   ]
  },
  {
   "cell_type": "code",
   "execution_count": 7,
   "metadata": {},
   "outputs": [
    {
     "name": "stdout",
     "output_type": "stream",
     "text": [
      "9920\n",
      "2170\n",
      "(9920, 48, 48, 3)\n",
      "(2170, 48, 48, 3)\n"
     ]
    }
   ],
   "source": [
    "(x_train, y_train), (x_test, y_test) = load_data()\n",
    "print(len(x_train))#62*160=9920\n",
    "print(len(x_test))#62*35=2170\n",
    "\n",
    "#处理x\n",
    "# *3channel\n",
    "import cv2 \n",
    "resList_train = []\n",
    "for i in x_train:\n",
    "    image = np.expand_dims(i, axis=2) \n",
    "    image = np.concatenate((image, image, image), axis=-1)\n",
    "    resList_train.append(image)\n",
    "x_train=np.array(resList_train)\n",
    "\n",
    "resList_test = []\n",
    "for i in x_test:\n",
    "    image = np.expand_dims(i, axis=2) \n",
    "    image = np.concatenate((image, image, image), axis=-1)\n",
    "    resList_test.append(image)\n",
    "x_test=np.array(resList_test)\n",
    "\n",
    "del resList_test\n",
    "print(x_train.shape)\n",
    "print(x_test.shape)"
   ]
  },
  {
   "cell_type": "markdown",
   "metadata": {},
   "source": [
    "# y转换标签"
   ]
  },
  {
   "cell_type": "code",
   "execution_count": 8,
   "metadata": {},
   "outputs": [
    {
     "name": "stdout",
     "output_type": "stream",
     "text": [
      "(9920,)\n",
      "(2170,)\n"
     ]
    }
   ],
   "source": [
    "#  - 9    K P X Z k p x z     q  l  o\n",
    "\n",
    "for i in range(0,len(y_test)):\n",
    "    if(y_test[i]=='C'): y_test[i]='c'\n",
    "    if(y_test[i]=='O'): y_test[i]='o'\n",
    "    if(y_test[i]=='S'): y_test[i]='s'\n",
    "    if(y_test[i]=='V'): y_test[i]='v'\n",
    "    if(y_test[i]=='W'): y_test[i]='w'\n",
    "    if(y_test[i]=='K'): y_test[i]='k'\n",
    "    if(y_test[i]=='P'): y_test[i]='p'\n",
    "    if(y_test[i]=='X'): y_test[i]='x'\n",
    "    if(y_test[i]=='Z'): y_test[i]='z'\n",
    "\n",
    "for i in range(0,len(y_train)):\n",
    "    if(y_train[i]=='C'): y_train[i]='c'\n",
    "    if(y_train[i]=='O'): y_train[i]='o'\n",
    "    if(y_train[i]=='S'): y_train[i]='s'\n",
    "    if(y_train[i]=='V'): y_train[i]='v'\n",
    "    if(y_train[i]=='W'): y_train[i]='w'\n",
    "    if(y_train[i]=='K'): y_train[i]='k'\n",
    "    if(y_train[i]=='P'): y_train[i]='p'\n",
    "    if(y_train[i]=='X'): y_train[i]='x'\n",
    "    if(y_train[i]=='Z'): y_train[i]='z'\n",
    "    \n",
    "        \n",
    "print(y_train.shape)\n",
    "print(y_test.shape)"
   ]
  },
  {
   "cell_type": "code",
   "execution_count": 1,
   "metadata": {},
   "outputs": [
    {
     "ename": "NameError",
     "evalue": "name 'x_train' is not defined",
     "output_type": "error",
     "traceback": [
      "\u001b[1;31m---------------------------------------------------------------------------\u001b[0m",
      "\u001b[1;31mNameError\u001b[0m                                 Traceback (most recent call last)",
      "\u001b[1;32m<ipython-input-1-b569052a718e>\u001b[0m in \u001b[0;36m<module>\u001b[1;34m()\u001b[0m\n\u001b[0;32m      1\u001b[0m \u001b[1;31m#更改变量名 便于合并数据集\u001b[0m\u001b[1;33m\u001b[0m\u001b[1;33m\u001b[0m\u001b[0m\n\u001b[1;32m----> 2\u001b[1;33m \u001b[1;33m(\u001b[0m\u001b[0mx_train1\u001b[0m\u001b[1;33m,\u001b[0m \u001b[0my_train1\u001b[0m\u001b[1;33m)\u001b[0m\u001b[1;33m,\u001b[0m \u001b[1;33m(\u001b[0m\u001b[0mx_test1\u001b[0m\u001b[1;33m,\u001b[0m \u001b[0my_test1\u001b[0m\u001b[1;33m)\u001b[0m\u001b[1;33m=\u001b[0m\u001b[1;33m(\u001b[0m\u001b[0mx_train\u001b[0m\u001b[1;33m,\u001b[0m \u001b[0my_train\u001b[0m\u001b[1;33m)\u001b[0m\u001b[1;33m,\u001b[0m \u001b[1;33m(\u001b[0m\u001b[0mx_test\u001b[0m\u001b[1;33m,\u001b[0m \u001b[0my_test\u001b[0m\u001b[1;33m)\u001b[0m\u001b[1;33m\u001b[0m\u001b[0m\n\u001b[0m\u001b[0;32m      3\u001b[0m \u001b[1;32mdel\u001b[0m \u001b[0mx_train\u001b[0m\u001b[1;33m,\u001b[0m \u001b[0my_train\u001b[0m\u001b[1;33m,\u001b[0m \u001b[0mx_test\u001b[0m\u001b[1;33m,\u001b[0m \u001b[0my_test\u001b[0m\u001b[1;33m\u001b[0m\u001b[0m\n\u001b[0;32m      4\u001b[0m \u001b[0mprint\u001b[0m\u001b[1;33m(\u001b[0m\u001b[0mx_train1\u001b[0m\u001b[1;33m.\u001b[0m\u001b[0mshape\u001b[0m\u001b[1;33m)\u001b[0m\u001b[1;33m\u001b[0m\u001b[0m\n\u001b[0;32m      5\u001b[0m \u001b[0mprint\u001b[0m\u001b[1;33m(\u001b[0m\u001b[0mx_test1\u001b[0m\u001b[1;33m.\u001b[0m\u001b[0mshape\u001b[0m\u001b[1;33m)\u001b[0m\u001b[1;33m\u001b[0m\u001b[0m\n",
      "\u001b[1;31mNameError\u001b[0m: name 'x_train' is not defined"
     ]
    }
   ],
   "source": [
    "#更改变量名 便于合并数据集\n",
    "(x_train1, y_train1), (x_test1, y_test1)=(x_train, y_train), (x_test, y_test)\n",
    "del x_train, y_train, x_test, y_test\n",
    "print(x_train1.shape)\n",
    "print(x_test1.shape)\n",
    "print(y_train1.shape)\n",
    "print(y_test1.shape)"
   ]
  },
  {
   "cell_type": "markdown",
   "metadata": {},
   "source": [
    "# 加载汉字数据集"
   ]
  },
  {
   "cell_type": "code",
   "execution_count": null,
   "metadata": {},
   "outputs": [],
   "source": [
    "import numpy as np\n",
    "import cv2 \n",
    "\n",
    "npypath=\"F:\\SCUT\\output2\\GB1_48_48_center_in\\\\\"\n",
    "x_train=[]\n",
    "y_train=[]\n",
    "x_test=[]\n",
    "y_test=[]\n",
    "\n",
    "for i in range(8):\n",
    "    t=int(i*500)\n",
    "    if(t==3500):\n",
    "        x_1=np.load(npypath+\"gb1_x_3501_3755.npy\")\n",
    "        y_1=np.load(npypath+\"gb1_y_3501_3755.npy\")\n",
    "    else:   \n",
    "        x_1=np.load(npypath+\"gb1_x_\"+ str(t+1) +\"_\"+ str(t+500)   +\".npy\")\n",
    "        y_1=np.load(npypath+\"gb1_y_\"+ str(t+1) +\"_\"+ str(t+500)   +\".npy\")\n",
    "    resList_train = []\n",
    "    for j in x_1:\n",
    "        image = np.expand_dims(j, axis=2) \n",
    "        image = np.concatenate((image, image, image), axis=-1)\n",
    "        resList_train.append(image)\n",
    "    x_1=np.array(resList_train)\n",
    "    del resList_train,image  \n",
    "    if(i==0):\n",
    "        x_train=x_1[:80000]\n",
    "        y_train=y_1[:80000]\n",
    "        x_test=x_1[80000:]\n",
    "        y_test=y_1[80000:]\n",
    "        print(i+1)\n",
    "        print(str(x_train.shape)+' '+str(x_test.shape))\n",
    "        print(str(y_train.shape)+' '+str(y_test.shape))\n",
    "        del x_1,y_1\n",
    "        continue \n",
    "    if(t!=3500):\n",
    "        y_train=np.concatenate((y_train,y_1[:80000]),axis=0)\n",
    "        y_test=np.concatenate((y_test,y_1[80000:]),axis=0)\n",
    "        x_train=np.concatenate((x_train,x_1[:80000]),axis=0)\n",
    "        x_test=np.concatenate((x_test,x_1[80000:]),axis=0)\n",
    "    else:\n",
    "        y_train=np.concatenate((y_train,y_1[:40800]),axis=0)\n",
    "        y_test=np.concatenate((y_test,y_1[40800:]),axis=0)\n",
    "        x_train=np.concatenate((x_train,x_1[:40800]),axis=0)\n",
    "        x_test=np.concatenate((x_test,x_1[40800:]),axis=0)       \n",
    "    del y_1,x_1\n",
    "    \n",
    "    print(i+1)\n",
    "    print(str(x_train.shape)+' '+str(x_test.shape))\n",
    "    print(str(y_train.shape)+' '+str(y_test.shape)) #80000*7+40800=600800     14000*7+7140=105140 "
   ]
  },
  {
   "cell_type": "markdown",
   "metadata": {},
   "source": [
    "# 两个数据集合并"
   ]
  },
  {
   "cell_type": "code",
   "execution_count": null,
   "metadata": {},
   "outputs": [],
   "source": [
    "y_train=np.concatenate((y_train,y_train1),axis=0)\n",
    "y_test=np.concatenate((y_test,y_test1),axis=0)\n",
    "x_train=np.concatenate((x_train,x_train1),axis=0)\n",
    "x_test=np.concatenate((x_test,x_test1),axis=0)\n",
    "del x_train1,x_test1,y_train1,y_test1\n",
    "print(x_train.shape) #600800 + 9920\n",
    "print(x_test.shape)  #105140 + 2170\n",
    "print(y_train.shape)\n",
    "print(y_test.shape)"
   ]
  },
  {
   "cell_type": "markdown",
   "metadata": {},
   "source": [
    "# y标签向量化"
   ]
  },
  {
   "cell_type": "code",
   "execution_count": 13,
   "metadata": {},
   "outputs": [],
   "source": [
    "#处理y\n",
    "from sklearn.preprocessing import LabelBinarizer\n",
    "\n",
    "lb = LabelBinarizer()\n",
    "y_train = lb.fit_transform(y_train)\n",
    "y_test = lb.transform(y_test)\n",
    "\n",
    "label_num=len(lb.classes_)\n",
    "maxlen=48\n",
    "print(label_num)  #3755 + 62 - 9  = 3808"
   ]
  },
  {
   "cell_type": "markdown",
   "metadata": {},
   "source": [
    "# 模型训练"
   ]
  },
  {
   "cell_type": "code",
   "execution_count": null,
   "metadata": {},
   "outputs": [],
   "source": [
    "from keras.applications.mobilenet_v2 import MobileNetV2\n",
    "from keras.applications.vgg16 import VGG16\n",
    "from keras.applications.xception import Xception \n",
    "from keras.applications.inception_v3 import InceptionV3\n",
    "\n",
    "from keras.models import Model\n",
    "from keras.utils import multi_gpu_model\n",
    "import keras\n",
    "from keras.models import Sequential\n",
    "from keras.layers import Dense, Dropout,Activation,BatchNormalization\n",
    "from keras.optimizers import SGD,RMSprop,Adadelta\n",
    "from keras.layers import Conv2D, MaxPooling2D,Flatten\n",
    "\n",
    "\n",
    "#使用MobileNetV2网络模型进行训练\n",
    "base_model = MobileNetV2(weights=\"imagenet\", include_top=False,pooling = 'avg')\n",
    "x = base_model.output\n",
    "predictions = Dense(label_num, activation='softmax')(x)\n",
    "\n",
    "model = Model(inputs=base_model.input, outputs=predictions)"
   ]
  },
  {
   "cell_type": "code",
   "execution_count": null,
   "metadata": {},
   "outputs": [],
   "source": [
    "ADAM=keras.optimizers.Adam(lr=0.001, beta_1=0.9, beta_2=0.999, epsilon=1e-08)\n",
    "model.compile(optimizer=ADAM , loss='categorical_crossentropy', metrics=['accuracy'])\n",
    "model.fit(x_train, y_train,batch_size=128,epochs=10,validation_data=(x_test, y_test))"
   ]
  },
  {
   "cell_type": "markdown",
   "metadata": {},
   "source": [
    "# 保存模型及标签文件\n"
   ]
  },
  {
   "cell_type": "code",
   "execution_count": null,
   "metadata": {},
   "outputs": [],
   "source": [
    "import pickle\n",
    "import numpy as np\n",
    "model.save('F:\\SCUT\\output2\\model\\scut_48_3_MobileNetV2.h5')\n",
    "\n",
    "ll=lb.classes_\n",
    "print(ll.shape)\n",
    "np.savetxt('F:\\SCUT\\output2\\model\\scut_48_3_MobileNetV2', ll,fmt = '%s')"
   ]
  }
 ],
 "metadata": {
  "kernelspec": {
   "display_name": "Python 3",
   "language": "python",
   "name": "python3"
  },
  "language_info": {
   "codemirror_mode": {
    "name": "ipython",
    "version": 3
   },
   "file_extension": ".py",
   "mimetype": "text/x-python",
   "name": "python",
   "nbconvert_exporter": "python",
   "pygments_lexer": "ipython3",
   "version": "3.6.7"
  }
 },
 "nbformat": 4,
 "nbformat_minor": 2
}
